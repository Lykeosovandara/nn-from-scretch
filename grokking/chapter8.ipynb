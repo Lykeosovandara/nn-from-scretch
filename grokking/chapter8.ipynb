{
 "cells": [
  {
   "cell_type": "code",
   "execution_count": 62,
   "metadata": {},
   "outputs": [
    {
     "name": "stdout",
     "output_type": "stream",
     "text": [
      " I:349 Error:0.108 Correct1.099"
     ]
    }
   ],
   "source": [
    "import sys, numpy as np\n",
    "from keras.datasets import mnist\n",
    "\n",
    "import matplotlib.pyplot as plt\n",
    "\n",
    "(x_train, y_train), (x_test, y_test) = mnist.load_data()\n",
    "\n",
    "# plt.imshow(x_train[0], cmap='gray')\n",
    "\n",
    "images, labels = (x_train[0:1000].reshape(1000,28*28) / 255, y_train[0:1000])\n",
    "\n",
    "one_hot_labels = np.zeros((len(labels), 10))\n",
    "\n",
    "for i,l in enumerate(labels):\n",
    "    one_hot_labels[i][l] = 1\n",
    "\n",
    "labels  = one_hot_labels\n",
    "\n",
    "test_images = x_test.reshape(len(x_test),28*28) / 255\n",
    "test_labels = np.zeros((len(y_test),10))\n",
    "\n",
    "for i,l in enumerate(y_test):\n",
    "    test_labels[i][l] = 1\n",
    "\n",
    "np.random.seed(1)\n",
    "\n",
    "relu = lambda x: (x > 0) * x\n",
    "relu2deriv = lambda x: x>=0\n",
    "\n",
    "alpha, interation, hidden_size, pixels_per_image, num_labels = (0.005, 350, 40, 784, 10)\n",
    "\n",
    "weights_0_1 = 0.2 *np.random.random((pixels_per_image, hidden_size)) - 0.1\n",
    "weight_1_2 = 0.2 * np.random.random((hidden_size, num_labels)) - 0.1\n",
    "\n",
    "\n",
    "for j in range(interation): \n",
    "    error, correct_cnt = (0.0, 0)\n",
    "\n",
    "    for i in range(len(images)):\n",
    "        layer_0 = images[i: i+1]\n",
    "        layer_1 = relu(np.dot(layer_0, weights_0_1))\n",
    "        layer_2 = np.dot(layer_1, weight_1_2)\n",
    "        error += np.sum((labels[i:i+1] - layer_2) ** 2)\n",
    "\n",
    "        correct_cnt += int(np.argmax(layer_2) == np.argmax(labels[i: i+1]))\n",
    "\n",
    "        layer_2_delta = (labels[i: i+1] - layer_2)\n",
    "\n",
    "        layer_1_delta = layer_2_delta.dot(weight_1_2.T) * relu2deriv(layer_1)\n",
    "\n",
    "        weight_1_2 += alpha * layer_1.T.dot(layer_2_delta)\n",
    "        weights_0_1 += alpha * layer_0.T.dot(layer_1_delta)\n",
    "\n",
    "    sys.stdout.write(\"\\r\" + \\\n",
    "                     \" I:\" + str(j)+ \\\n",
    "                     \" Error:\" + str(error/float(len(images)))[0:5] +\\\n",
    "                     \" Correct\"+ str(correct_cnt/float(len(images)))\n",
    "                     \n",
    "                     )\n",
    "\n"
   ]
  },
  {
   "cell_type": "code",
   "execution_count": 63,
   "metadata": {},
   "outputs": [
    {
     "name": "stdout",
     "output_type": "stream",
     "text": [
      "Predicted digit: 8\n",
      "Confidence: 0.4173\n",
      "Actual digit: 6\n"
     ]
    },
    {
     "data": {
      "image/png": "[encoded data removed]",
      "text/plain": [
       "<Figure size 640x480 with 1 Axes>"
      ]
     },
     "metadata": {},
     "output_type": "display_data"
    }
   ],
   "source": [
    "def predict_digit(image, weights_0_1, weight_1_2):\n",
    "\n",
    "    # Reshape and normalize the image if necessary\n",
    "    if image.shape == (28, 28):\n",
    "        image = image.reshape(1, 784)\n",
    "    if image.max() > 1:\n",
    "        image = image / 255.0\n",
    "        \n",
    "    # Forward propagation\n",
    "    layer_0 = image\n",
    "    layer_1 = relu(np.dot(layer_0, weights_0_1))\n",
    "    layer_2 = np.dot(layer_1, weight_1_2)\n",
    "    \n",
    "    # Get prediction and confidence\n",
    "    predicted_digit = np.argmax(layer_2)\n",
    "    confidence = layer_2[0][predicted_digit]\n",
    "    \n",
    "    return predicted_digit, confidence\n",
    "\n",
    "# Example usage:\n",
    "# Test on a single image from the test set\n",
    "test_image = x_test[11]  # Get the first test image\n",
    "predicted_digit, confidence = predict_digit(test_image, weights_0_1, weight_1_2)\n",
    "\n",
    "print(f\"Predicted digit: {predicted_digit}\")\n",
    "print(f\"Confidence: {confidence:.4f}\")\n",
    "print(f\"Actual digit: {y_test[11]}\")\n",
    "\n",
    "# Optional: Display the image\n",
    "plt.imshow(test_image, cmap='gray')\n",
    "plt.title(f'Predicted: {predicted_digit}')\n",
    "plt.show()"
   ]
  }
 ],
 "metadata": {
  "kernelspec": {
   "display_name": "base",
   "language": "python",
   "name": "python3"
  },
  "language_info": {
   "codemirror_mode": {
    "name": "ipython",
    "version": 3
   },
   "file_extension": ".py",
   "mimetype": "text/x-python",
   "name": "python",
   "nbconvert_exporter": "python",
   "pygments_lexer": "ipython3",
   "version": "3.12.4"
  }
 },
 "nbformat": 4,
 "nbformat_minor": 2
}
