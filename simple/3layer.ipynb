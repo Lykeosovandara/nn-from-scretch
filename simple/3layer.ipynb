{
 "cells": [
  {
   "cell_type": "code",
   "execution_count": null,
   "metadata": {},
   "outputs": [],
   "source": []
  },
  {
   "cell_type": "code",
   "execution_count": 1,
   "metadata": {},
   "outputs": [
    {
     "name": "stdout",
     "output_type": "stream",
     "text": [
      "[[-0.73580164 -0.87146858  0.47078902  0.71450152]\n",
      " [ 0.8129179   0.74082536  0.04808107 -0.37522193]\n",
      " [-0.44712388 -0.69897379 -0.75925813  0.68949256]]\n"
     ]
    }
   ],
   "source": [
    "import numpy as np\n",
    "\n",
    "\n",
    "np.random.seed()\n",
    "\n",
    "def relu(x):\n",
    "    return (x > 0) * x\n",
    "\n",
    "def relu2derive(output):\n",
    "    return output > 0\n",
    "\n",
    "\n",
    "alpha = 0.2\n",
    "hidden_size = 4\n",
    "\n",
    "\n",
    "\n",
    "streetlights = np.array([[ 1, 0, 1,],\n",
    "                         [0, 1, 1],\n",
    "                         [0, 0, 1],\n",
    "                         [1, 1, 1]\n",
    "                         ])\n",
    "\n",
    "# [1 1 0 0]\n",
    "walk_vs_stop = np.array([1, 1, 0, 0]).T\n",
    "\n",
    "weights_0_1 =  2*  np.random.random((3, hidden_size)) - 1\n",
    "\n",
    "print(weights_0_1)\n",
    "\n"
   ]
  }
 ],
 "metadata": {
  "kernelspec": {
   "display_name": "base",
   "language": "python",
   "name": "python3"
  },
  "language_info": {
   "codemirror_mode": {
    "name": "ipython",
    "version": 3
   },
   "file_extension": ".py",
   "mimetype": "text/x-python",
   "name": "python",
   "nbconvert_exporter": "python",
   "pygments_lexer": "ipython3",
   "version": "3.12.4"
  }
 },
 "nbformat": 4,
 "nbformat_minor": 2
}
