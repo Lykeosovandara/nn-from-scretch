{
 "cells": [
  {
   "cell_type": "code",
   "execution_count": 15,
   "metadata": {},
   "outputs": [
    {
     "name": "stdout",
     "output_type": "stream",
     "text": [
      "ERROR: 0.6342311598444467\n",
      "ERROR: 0.3583840767631751\n",
      "ERROR: 0.08301831133032973\n",
      "ERROR: 0.006467054957103672\n",
      "ERROR: 0.0003292669000750735\n",
      "ERROR: 1.5055622665134864e-05\n"
     ]
    }
   ],
   "source": [
    "import numpy as np\n",
    "\n",
    "\n",
    "np.random.seed(1)\n",
    "\n",
    "def relu(x):\n",
    "    return (x > 0) * x\n",
    "\n",
    "def relu2derive(output):\n",
    "    return output > 0\n",
    "\n",
    "\n",
    "alpha = 0.2\n",
    "hidden_size = 4\n",
    "\n",
    "\n",
    "streetlights = np.array([[ 1, 0, 1,],\n",
    "                         [0, 1, 1],\n",
    "                         [0, 0, 1],\n",
    "                         [1, 1, 1]\n",
    "                         ])\n",
    "\n",
    "walk_vs_stop = np.array([1, 1, 0, 0]).T\n",
    "\n",
    "weights_0_1 =  2 * np.random.random((3, hidden_size)) - 1\n",
    "weights_1_2 = 2 * np.random.random((hidden_size, 1)) -1\n",
    "\n",
    "\n",
    "\n",
    "for interation in range(60):\n",
    "    layer_2_error = 0\n",
    "\n",
    "    for i in range(len(streetlights)):\n",
    "        layer_0 = streetlights[i:i+1]\n",
    "        layer_1 = relu(np.dot(layer_0, weights_0_1))\n",
    "        layer_2 = np.dot(layer_1, weights_1_2)\n",
    "\n",
    "        layer_2_error += np.sum((layer_2 - walk_vs_stop[i:i+1]) ** 2)\n",
    "        layer_2_delta = (walk_vs_stop[i:i+1] - layer_2)\n",
    "        layer_1_delta = layer_2_delta.dot(weights_1_2.T)*relu2derive(layer_1)\n",
    "\n",
    "        weights_1_2 += alpha * layer_1.T.dot(layer_2_delta)\n",
    "        weights_0_1 += alpha * layer_0.T.dot(layer_1_delta)\n",
    "\n",
    "    if (interation % 10 == 9):\n",
    "        print(\"ERROR: \" + str(layer_2_error))\n",
    "        \n",
    "\n"
   ]
  },
  {
   "cell_type": "code",
   "execution_count": null,
   "metadata": {},
   "outputs": [],
   "source": []
  }
 ],
 "metadata": {
  "kernelspec": {
   "display_name": "base",
   "language": "python",
   "name": "python3"
  },
  "language_info": {
   "codemirror_mode": {
    "name": "ipython",
    "version": 3
   },
   "file_extension": ".py",
   "mimetype": "text/x-python",
   "name": "python",
   "nbconvert_exporter": "python",
   "pygments_lexer": "ipython3",
   "version": "3.12.4"
  }
 },
 "nbformat": 4,
 "nbformat_minor": 2
}
