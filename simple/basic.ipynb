{
 "cells": [
  {
   "cell_type": "code",
   "execution_count": 9,
   "metadata": {},
   "outputs": [
    {
     "name": "stdout",
     "output_type": "stream",
     "text": [
      "0.8500000000000001\n"
     ]
    }
   ],
   "source": [
    "weight = 0.1\n",
    "\n",
    "def nn(input, weight):\n",
    "    predict = input * weight\n",
    "    return predict\n",
    "\n",
    "\n",
    "numbers_of_toes = [8.5, 9.5, 10, 9]\n",
    "input  = numbers_of_toes[0]\n",
    "\n",
    "pred  = nn(input=input, weight=weight)\n",
    "print(pred)"
   ]
  },
  {
   "cell_type": "code",
   "execution_count": 10,
   "metadata": {},
   "outputs": [
    {
     "name": "stdout",
     "output_type": "stream",
     "text": [
      "0.9800000000000001\n"
     ]
    }
   ],
   "source": [
    "import numpy as np \n",
    "\n",
    "weights = np.array([0.1, 0.2, 0])\n",
    "\n",
    "def neural_network(input, weights):\n",
    "    pred = input.dot(weights)\n",
    "    return pred\n",
    "\n",
    "toes = np.array([8.5])\n",
    "wlrec = np.array([0.65])\n",
    "nfans = np.array([1.2])\n",
    "\n",
    "input = np.array([toes[0], wlrec[0], nfans[0]])\n",
    "\n",
    "pred = neural_network(input, weights)\n",
    "\n",
    "print(pred)"
   ]
  },
  {
   "cell_type": "code",
   "execution_count": 11,
   "metadata": {},
   "outputs": [],
   "source": [
    "ih_wgt = np.array([\n",
    "    \n",
    "])"
   ]
  },
  {
   "cell_type": "code",
   "execution_count": 12,
   "metadata": {},
   "outputs": [
    {
     "name": "stdout",
     "output_type": "stream",
     "text": [
      "0.30250000000000005\n"
     ]
    }
   ],
   "source": [
    "knob_w = 0.5\n",
    "input = 0.5\n",
    "goal_pred = 0.8\n",
    "\n",
    "pred = input * knob_w\n",
    "error = (pred - goal_pred) ** 2\n",
    "\n",
    "print(error)"
   ]
  },
  {
   "cell_type": "code",
   "execution_count": 16,
   "metadata": {},
   "outputs": [
    {
     "name": "stdout",
     "output_type": "stream",
     "text": [
      "57.53222500000001\n"
     ]
    }
   ],
   "source": [
    "weigh = 0.1\n",
    "lr = 0.01 \n",
    "\n",
    "def nn(input, weight):\n",
    "    return input * weight\n",
    "\n",
    "numbers_of_toes = [8.5]\n",
    "win_or_lose = [1]\n",
    "\n",
    "input = numbers_of_toes[0]\n",
    "true = win_or_lose[0]\n",
    "\n",
    "\n",
    "pred = nn(input, true+lr)\n",
    "error = (pred - true) ** 2\n",
    "\n",
    "print(error)"
   ]
  },
  {
   "cell_type": "code",
   "execution_count": 25,
   "metadata": {},
   "outputs": [
    {
     "name": "stdout",
     "output_type": "stream",
     "text": [
      "Error: 0.03999999999999998 Prediction: 1.0\n",
      "Error: 0.0144 Prediction: 0.92\n",
      "Error: 0.005183999999999993 Prediction: 0.872\n",
      "Error: 0.0018662400000000014 Prediction: 0.8432000000000001\n",
      "Error: 0.0006718464000000028 Prediction: 0.8259200000000001\n",
      "Error: 0.00024186470400000033 Prediction: 0.815552\n",
      "Error: 8.70712934399997e-05 Prediction: 0.8093312\n",
      "Error: 3.134566563839939e-05 Prediction: 0.80559872\n",
      "Error: 1.1284439629823931e-05 Prediction: 0.803359232\n",
      "Error: 4.062398266736526e-06 Prediction: 0.8020155392\n",
      "Error: 1.4624633760252567e-06 Prediction: 0.8012093235200001\n",
      "Error: 5.264868153690924e-07 Prediction: 0.8007255941120001\n",
      "Error: 1.8953525353291194e-07 Prediction: 0.8004353564672001\n",
      "Error: 6.82326912718715e-08 Prediction: 0.8002612138803201\n",
      "Error: 2.456376885786678e-08 Prediction: 0.8001567283281921\n",
      "Error: 8.842956788836216e-09 Prediction: 0.8000940369969153\n",
      "Error: 3.1834644439835434e-09 Prediction: 0.8000564221981492\n",
      "Error: 1.1460471998340758e-09 Prediction: 0.8000338533188895\n",
      "Error: 4.125769919393652e-10 Prediction: 0.8000203119913337\n",
      "Error: 1.485277170987127e-10 Prediction: 0.8000121871948003\n"
     ]
    }
   ],
   "source": [
    "weight = 0.5\n",
    "goal_pred = 0.8\n",
    "input = 2\n",
    "alpha = 0.1\n",
    "\n",
    "for interrtion in range(20):\n",
    "    pred = input * weight\n",
    "    error = (pred - goal_pred) ** 2\n",
    "    derivative = input * (pred - goal_pred)\n",
    "    weight = weight - (alpha * derivative)\n",
    "    print(\"Error: \" + str(error) + \" Prediction: \"+ str(pred))"
   ]
  },
  {
   "cell_type": "code",
   "execution_count": null,
   "metadata": {},
   "outputs": [],
   "source": []
  }
 ],
 "metadata": {
  "kernelspec": {
   "display_name": "base",
   "language": "python",
   "name": "python3"
  },
  "language_info": {
   "codemirror_mode": {
    "name": "ipython",
    "version": 3
   },
   "file_extension": ".py",
   "mimetype": "text/x-python",
   "name": "python",
   "nbconvert_exporter": "python",
   "pygments_lexer": "ipython3",
   "version": "3.12.4"
  }
 },
 "nbformat": 4,
 "nbformat_minor": 2
}
